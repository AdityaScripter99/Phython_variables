{
 "cells": [
  {
   "cell_type": "markdown",
   "metadata": {},
   "source": [
    "Q1. Write all the conventions being followed while declaring a variable.\n",
    "Ans:- (a)- A variable name must start with a letter or the underscore character\n",
    "(b)- A variable name cannot start with a number\n",
    "(c)- A variable name can only contain alpha-numeric characters and underscores (A-z, 0-9, and _ )\n",
    "(d)- Variable names are case-sensitive (age, Age and AGE are three different variables)"
   ]
  },
  {
   "attachments": {},
   "cell_type": "markdown",
   "metadata": {},
   "source": [
    "Q2. What will happen if we declare a restricted keyword as a variable?\n",
    "Ans:- If we declare a restricted keyword as a variable then compiler will through error because keywords have the specific meaning that the compiler knows.So we can't use keyword as a variable."
   ]
  },
  {
   "attachments": {},
   "cell_type": "markdown",
   "metadata": {},
   "source": [
    "Q3. Can we actually declare a string as a variable name?\n",
    "Ans:- No we can not declare a string as a variable name but we can convert it by using inbuild function like vars()."
   ]
  },
  {
   "attachments": {},
   "cell_type": "markdown",
   "metadata": {},
   "source": [
    "Q4. Is it possible for us to declare “_” as a variable? If so, then write an example of it.\n",
    "Ans:- yes it is possible for us to declare \"_\" as a variable name.\n",
    "Example:- for_in range(100),adi_tya = 546"
   ]
  },
  {
   "attachments": {},
   "cell_type": "markdown",
   "metadata": {},
   "source": [
    "Q5. Using an example, explain how the variables in python are dynamic in nature.\n",
    "Ans:- Dynamic means that the type of the variables is determined only during runtime.\n",
    "Due to strong typing, types need to be compatible with respect to the operand when performing operations.\n",
    "For example Python allows one to add an integer and a floating point number, but adding an integer to a string produces error.\n"
   ]
  }
 ],
 "metadata": {
  "language_info": {
   "name": "python"
  },
  "orig_nbformat": 4
 },
 "nbformat": 4,
 "nbformat_minor": 2
}
